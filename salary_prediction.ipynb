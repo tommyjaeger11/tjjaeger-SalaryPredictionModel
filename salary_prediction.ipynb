{
 "cells": [
  {
   "cell_type": "markdown",
   "metadata": {},
   "source": [
    "# Build a Random Forest Regression Model"
   ]
  },
  {
   "cell_type": "markdown",
   "metadata": {},
   "source": [
    "Import libraries"
   ]
  },
  {
   "cell_type": "code",
   "execution_count": null,
   "metadata": {},
   "outputs": [],
   "source": [
    "import pandas as pd\n",
    "import joblib\n",
    "from sklearn.preprocessing import LabelEncoder\n",
    "import random\n",
    "from sklearn.model_selection import train_test_split\n",
    "from sklearn.ensemble import RandomForestRegressor\n",
    "from sklearn.metrics import mean_absolute_error, r2_score\n",
    "from sklearn.metrics import mean_squared_error\n"
   ]
  },
  {
   "cell_type": "markdown",
   "metadata": {},
   "source": [
    "## Read the data"
   ]
  },
  {
   "cell_type": "markdown",
   "metadata": {},
   "source": [
    "Read in the .csv file.  This .csv file has been reduced to only the necessary columns.  \n",
    "  \n",
    "Look at the data shape to determine the number of rows and columns."
   ]
  },
  {
   "cell_type": "code",
   "execution_count": null,
   "metadata": {},
   "outputs": [],
   "source": [
    "#  import pandas as pd\n",
    "data = pd.read_csv('https://raw.githubusercontent.com/mikecolbert/salary_prediction_model/refs/heads/main/2022_kaggle_survey_results_public.csv')\n",
    "\n",
    "print(data.shape) # rows, columns\n",
    "\n",
    "data.head() # look at the first few rows"
   ]
  },
  {
   "cell_type": "markdown",
   "metadata": {},
   "source": [
    "<br>"
   ]
  },
  {
   "cell_type": "markdown",
   "metadata": {},
   "source": [
    "## Clean the data"
   ]
  },
  {
   "cell_type": "markdown",
   "metadata": {},
   "source": [
    "How many cells are NULL in each column?"
   ]
  },
  {
   "cell_type": "code",
   "execution_count": null,
   "metadata": {},
   "outputs": [],
   "source": [
    "data.isnull().sum() # check for missing values in each column"
   ]
  },
  {
   "cell_type": "markdown",
   "metadata": {},
   "source": [
    "What proportion of the data contains one or more missing values (NULL) in the row?"
   ]
  },
  {
   "cell_type": "code",
   "execution_count": null,
   "metadata": {},
   "outputs": [],
   "source": [
    "(data.shape[0] - data.dropna().shape[0])/data.shape[0] # proportion of rows with missing values\n",
    "#24% of the rows have missing values"
   ]
  },
  {
   "cell_type": "markdown",
   "metadata": {},
   "source": [
    "We could imputate the missing values with the mean of the column but we are not focused on tuning so we will just drop the rows with missing values."
   ]
  },
  {
   "cell_type": "code",
   "execution_count": null,
   "metadata": {},
   "outputs": [],
   "source": [
    "# drop rows with missing values (NULLs)\n",
    "data.dropna(inplace=True)"
   ]
  },
  {
   "cell_type": "markdown",
   "metadata": {},
   "source": [
    "How has the data shape changed from the original?  \n",
    "rows, columns  "
   ]
  },
  {
   "cell_type": "code",
   "execution_count": null,
   "metadata": {},
   "outputs": [],
   "source": [
    "data.shape  # rows, columns"
   ]
  },
  {
   "cell_type": "markdown",
   "metadata": {},
   "source": [
    "Look at the first few rows of the data frame."
   ]
  },
  {
   "cell_type": "code",
   "execution_count": null,
   "metadata": {},
   "outputs": [],
   "source": [
    "data.head()"
   ]
  },
  {
   "cell_type": "markdown",
   "metadata": {},
   "source": [
    "<br>"
   ]
  },
  {
   "cell_type": "markdown",
   "metadata": {},
   "source": [
    "## Prep the variables to use in our model"
   ]
  },
  {
   "cell_type": "markdown",
   "metadata": {},
   "source": [
    "Split the data into x and y data frames separating independent and dependent variables for prediction."
   ]
  },
  {
   "cell_type": "code",
   "execution_count": null,
   "metadata": {},
   "outputs": [],
   "source": [
    "x = data.loc[:,['age','gender','country','highest_deg','code_experience','current_title', 'company_size']]\n",
    "y = data.loc[:,['annual_comp']]"
   ]
  },
  {
   "cell_type": "markdown",
   "metadata": {},
   "source": [
    "Review the first few rows of each data frame."
   ]
  },
  {
   "cell_type": "code",
   "execution_count": null,
   "metadata": {},
   "outputs": [],
   "source": [
    "y.head()"
   ]
  },
  {
   "cell_type": "code",
   "execution_count": null,
   "metadata": {},
   "outputs": [],
   "source": [
    "x.head()"
   ]
  },
  {
   "cell_type": "markdown",
   "metadata": {},
   "source": [
    "In the x data frame, map the categorical variables to numerical values for use in the regression model."
   ]
  },
  {
   "cell_type": "code",
   "execution_count": null,
   "metadata": {},
   "outputs": [],
   "source": [
    "# perform label encoding since we have categorical variables\n",
    "# from sklearn.preprocessing import LabelEncoder\n",
    "\n",
    "# List of columns you want to encode\n",
    "columns_to_encode = [\n",
    "    \"age\",\n",
    "    \"gender\",\n",
    "    \"country\",\n",
    "    \"highest_deg\",\n",
    "    \"code_experience\",\n",
    "    \"current_title\",\n",
    "    \"company_size\",\n",
    "]\n",
    "\n",
    "# Loop through each column and apply LabelEncoder individually\n",
    "for column in columns_to_encode:\n",
    "    # Create a new instance of LabelEncoder for each column\n",
    "    le = LabelEncoder()\n",
    "\n",
    "    # Fit and transform the column and assign it back to the DataFrame\n",
    "    x[column +'_enc'] = le.fit_transform(x[column])"
   ]
  },
  {
   "cell_type": "markdown",
   "metadata": {},
   "source": [
    "You should now see both the categorical and encoded columns (_enc) in the data frame."
   ]
  },
  {
   "cell_type": "code",
   "execution_count": null,
   "metadata": {},
   "outputs": [],
   "source": [
    "x.head()"
   ]
  },
  {
   "cell_type": "markdown",
   "metadata": {},
   "source": [
    "Print a map of the categorical values and the corresponding encoded values.  Copy the returned data and paste it somewhere you can refer back to it frequently."
   ]
  },
  {
   "cell_type": "code",
   "execution_count": null,
   "metadata": {},
   "outputs": [],
   "source": [
    "# make a map of the categorical values and their corresponding encoded values\n",
    "# from sklearn.preprocessing import LabelEncoder\n",
    "\n",
    "# Initialize the LabelEncoder\n",
    "le = LabelEncoder()\n",
    "\n",
    "columns_to_encode = [\n",
    "    \"age\",\n",
    "    \"gender\",\n",
    "    \"country\",\n",
    "    \"highest_deg\",\n",
    "    \"code_experience\",\n",
    "    \"current_title\",\n",
    "    \"company_size\",\n",
    "]\n",
    "\n",
    "# Loop through each column and apply LabelEncoder individually\n",
    "for column in columns_to_encode:\n",
    "    # Fit the encoder to the column\n",
    "    le.fit(x[column])\n",
    "\n",
    "    # Create a mapping dictionary from label to encoded value using the encoder's classes_\n",
    "    mapping = {\n",
    "        label: code for code, label in zip(le.classes_, range(len(le.classes_)))\n",
    "    }\n",
    "\n",
    "    # Display the mapping\n",
    "    print(column, \"mapping:\", mapping)"
   ]
  },
  {
   "cell_type": "markdown",
   "metadata": {},
   "source": [
    "Review the data frame again. We must drop the non-encoded columns."
   ]
  },
  {
   "cell_type": "code",
   "execution_count": null,
   "metadata": {},
   "outputs": [],
   "source": [
    "x.head()"
   ]
  },
  {
   "cell_type": "markdown",
   "metadata": {},
   "source": [
    "Drop the categorical columns. Rename the encoded columns."
   ]
  },
  {
   "cell_type": "code",
   "execution_count": null,
   "metadata": {},
   "outputs": [],
   "source": [
    "\n",
    "# drop the categroical columns\n",
    "x.drop('age',inplace=True,axis=1) \n",
    "x.drop(\"gender\", inplace=True, axis=1)  \n",
    "x.drop(\"country\", inplace=True, axis=1)\n",
    "x.drop(\"highest_deg\", inplace=True, axis=1)  \n",
    "x.drop(\"code_experience\", inplace=True, axis=1) \n",
    "x.drop(\"current_title\", inplace=True, axis=1) \n",
    "x.drop(\"company_size\", inplace=True, axis=1)\n",
    "\n",
    "# rename the _enc columns to the original column names\n",
    "x.rename(columns={\"age_enc\": \"age\"}, inplace=True)\n",
    "x.rename(columns={\"gender_enc\": \"gender\"}, inplace=True) \n",
    "x.rename(columns={\"country_enc\": \"country\"}, inplace=True)  \n",
    "x.rename(columns={\"highest_deg_enc\": \"highest_deg\"}, inplace=True)\n",
    "x.rename(columns={\"code_experience_enc\": \"code_experience\"}, inplace=True)\n",
    "x.rename(columns={\"current_title_enc\": \"current_title\"}, inplace=True)\n",
    "x.rename(columns={\"company_size_enc\": \"company_size\"}, inplace=True)\n"
   ]
  },
  {
   "cell_type": "markdown",
   "metadata": {},
   "source": [
    "Review the x data frame again to ensure dropping and renaming happened correctly."
   ]
  },
  {
   "cell_type": "code",
   "execution_count": null,
   "metadata": {},
   "outputs": [],
   "source": [
    "x.head()"
   ]
  },
  {
   "cell_type": "markdown",
   "metadata": {},
   "source": [
    "Review the y data frame. Notice the y data is also categorical."
   ]
  },
  {
   "cell_type": "code",
   "execution_count": null,
   "metadata": {},
   "outputs": [],
   "source": [
    "y.head()"
   ]
  },
  {
   "cell_type": "markdown",
   "metadata": {},
   "source": [
    "What are the unique categorical values in the annual_comp column?"
   ]
  },
  {
   "cell_type": "code",
   "execution_count": null,
   "metadata": {},
   "outputs": [],
   "source": [
    "y.annual_comp.unique()"
   ]
  },
  {
   "cell_type": "markdown",
   "metadata": {},
   "source": [
    "<br>"
   ]
  },
  {
   "cell_type": "markdown",
   "metadata": {},
   "source": [
    "### <font color=\"crimson\"> This step is super-sketchy. </font> \n",
    "\n",
    "I did this so the model would return a specific predicted salary value rather than a categorical salary range.\n",
    "\n",
    "I create a random integer between the low and high values in the categorical salary range."
   ]
  },
  {
   "cell_type": "code",
   "execution_count": null,
   "metadata": {},
   "outputs": [],
   "source": [
    "# import pandas as pd'\n",
    "# import random\n",
    "\n",
    "# function to calculate the midpoint of a salary range\n",
    "def calculate_midpoint(salary_range):\n",
    "    if salary_range == \">$1,000,000\":\n",
    "        # Handle this case as needed; here I'm assuming $1,000,000 as a placeholder\n",
    "        return 1000000\n",
    "    else:\n",
    "        # Remove any commas and dollar signs, then split by '-'\n",
    "        low, high = salary_range.replace(\",\", \"\").replace(\"$\", \"\").split(\"-\")\n",
    "        # Calculate and return the midpoint\n",
    "        # midpoint = round((int(low) + int(high)) / 2)\n",
    "        # return (int(low) + midpoint)\n",
    "        return round(random.randint(int(low), int(high)))\n",
    "\n",
    "# Apply the function to the 'annual_comp' column\n",
    "y[\"annual_comp\"] = y[\"annual_comp\"].apply(calculate_midpoint)\n",
    "\n",
    "# Display the updated DataFrame\n",
    "print(y)"
   ]
  },
  {
   "cell_type": "markdown",
   "metadata": {},
   "source": [
    "Review the data frame. Have the categorical ranges been replaced by random values?"
   ]
  },
  {
   "cell_type": "code",
   "execution_count": null,
   "metadata": {
    "scrolled": true
   },
   "outputs": [],
   "source": [
    "y.head()"
   ]
  },
  {
   "cell_type": "markdown",
   "metadata": {},
   "source": [
    "<br>"
   ]
  },
  {
   "cell_type": "markdown",
   "metadata": {},
   "source": [
    "## Build the machine learning model"
   ]
  },
  {
   "cell_type": "markdown",
   "metadata": {},
   "source": [
    "Split the x and y data frames into training and testing data for the model."
   ]
  },
  {
   "cell_type": "code",
   "execution_count": null,
   "metadata": {},
   "outputs": [],
   "source": [
    "# create a train test split\n",
    "# from sklearn.model_selection import train_test_split\n",
    "x_train,x_test,y_train,y_test = train_test_split(x,y,test_size=0.2,random_state=0)"
   ]
  },
  {
   "cell_type": "code",
   "execution_count": null,
   "metadata": {},
   "outputs": [],
   "source": [
    "x_test.shape"
   ]
  },
  {
   "cell_type": "markdown",
   "metadata": {},
   "source": [
    "Train a random forest regression model.\n",
    "\n",
    "I'm not a machine learning model person. I'm not entirely sure what n_estimators and max_depth are doing in this part of the code."
   ]
  },
  {
   "cell_type": "code",
   "execution_count": null,
   "metadata": {},
   "outputs": [],
   "source": [
    "# train a random forest regressor model\n",
    "# from sklearn.ensemble import RandomForestRegressor\n",
    "model = RandomForestRegressor(n_estimators=70, max_depth=7)\n",
    "model.fit(x_train, y_train.values.ravel())  # if y_train is a dataframe\n",
    "y_predict = model.predict(x_test)"
   ]
  },
  {
   "cell_type": "markdown",
   "metadata": {},
   "source": [
    "<br>"
   ]
  },
  {
   "cell_type": "markdown",
   "metadata": {},
   "source": [
    "## Evaluate the model"
   ]
  },
  {
   "cell_type": "markdown",
   "metadata": {},
   "source": [
    "Get the mean absolute error and r2 score for the model. \n",
    "\n",
    "If you are a machine learning person, continue to tune the model to get the best possible scores."
   ]
  },
  {
   "cell_type": "code",
   "execution_count": null,
   "metadata": {},
   "outputs": [],
   "source": [
    "# from sklearn.metrics import mean_absolute_error, r2_score\n",
    "print(\"MAE : \", mean_absolute_error(y_test,y_predict))\n",
    "print(\"r2 score : \", r2_score(y_test,y_predict))"
   ]
  },
  {
   "cell_type": "markdown",
   "metadata": {},
   "source": [
    "<br>"
   ]
  },
  {
   "cell_type": "markdown",
   "metadata": {},
   "source": [
    "## Export the model"
   ]
  },
  {
   "cell_type": "markdown",
   "metadata": {},
   "source": [
    "When you are happy with your model performance, dump it out to a file."
   ]
  },
  {
   "cell_type": "code",
   "execution_count": null,
   "metadata": {},
   "outputs": [],
   "source": [
    "# save the model\n",
    "# import joblib\n",
    "joblib.dump(model,'salary_predict_model.ml')"
   ]
  },
  {
   "cell_type": "markdown",
   "metadata": {},
   "source": [
    "<br>"
   ]
  },
  {
   "cell_type": "markdown",
   "metadata": {},
   "source": [
    "## Test the exported model"
   ]
  },
  {
   "cell_type": "markdown",
   "metadata": {},
   "source": [
    "To test your model, load the model file you created in the step above."
   ]
  },
  {
   "cell_type": "code",
   "execution_count": null,
   "metadata": {},
   "outputs": [],
   "source": [
    "# load the model we just created\n",
    "# import joblib\n",
    "model = joblib.load('salary_predict_model.ml')"
   ]
  },
  {
   "cell_type": "markdown",
   "metadata": {},
   "source": [
    "Then run it, passing in dependent variables. These are the mapped numerical labels of the categorical values. You can get the numeric values by looking at the mapping you copied and pasted out to a file a few steps earlier.\n",
    "\n",
    "To predict a salary, you must pass in the values in the correct order (age,gender,country,highest_deg,coding_exp, title, company_size)\n",
    "\n",
    "7: '50-54'  \n",
    "0: 'Man'  \n",
    "55: 'United States of America'  \n",
    "3: 'Master’s degree'  \n",
    "4: '5-10 years'  \n",
    "13: 'Teacher / professor'  \n",
    "2: '1000-9,999 employees'  \n",
    "\n",
    "The returned value will be different for everyone, because the salary values are randomly generated."
   ]
  },
  {
   "cell_type": "code",
   "execution_count": null,
   "metadata": {},
   "outputs": [],
   "source": [
    "model.predict([[7,0,55,3,4,13,2]]) # predict the salary for a new data point\n",
    "\n",
    "# generates a warning because we're passing just a plain list, not a pandas dataframe with \n",
    "# the same feature names the model was trained on\n"
   ]
  },
  {
   "cell_type": "code",
   "execution_count": null,
   "metadata": {},
   "outputs": [],
   "source": [
    "# to get rid of the warning, we can generate a dataframe with the correct column names\n",
    "\n",
    "input_data = pd.DataFrame([[7, 0, 55, 3, 4, 13, 2]],\n",
    "    columns=[\"age\", \"gender\", \"country\", \"highest_deg\", \"code_experience\", \"current_title\", \"company_size\"])\n"
   ]
  },
  {
   "cell_type": "code",
   "execution_count": null,
   "metadata": {},
   "outputs": [],
   "source": [
    "print(input_data)"
   ]
  },
  {
   "cell_type": "code",
   "execution_count": null,
   "metadata": {},
   "outputs": [],
   "source": [
    "prediction = model.predict(input_data)\n",
    "print(f\"predicted salary: ${prediction[0]:,.2f}\")"
   ]
  },
  {
   "cell_type": "code",
   "execution_count": null,
   "metadata": {},
   "outputs": [],
   "source": []
  }
 ],
 "metadata": {
  "kernelspec": {
   "display_name": "Python 3 (ipykernel)",
   "language": "python",
   "name": "python3"
  },
  "language_info": {
   "codemirror_mode": {
    "name": "ipython",
    "version": 3
   },
   "file_extension": ".py",
   "mimetype": "text/x-python",
   "name": "python",
   "nbconvert_exporter": "python",
   "pygments_lexer": "ipython3",
   "version": "3.12.2"
  }
 },
 "nbformat": 4,
 "nbformat_minor": 4
}
